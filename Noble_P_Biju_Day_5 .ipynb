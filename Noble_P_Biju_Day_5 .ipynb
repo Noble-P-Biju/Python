{
  "nbformat": 4,
  "nbformat_minor": 0,
  "metadata": {
    "colab": {
      "provenance": []
    },
    "kernelspec": {
      "name": "python3",
      "display_name": "Python 3"
    },
    "language_info": {
      "name": "python"
    }
  },
  "cells": [
    {
      "cell_type": "markdown",
      "source": [
        "Qn1"
      ],
      "metadata": {
        "id": "_Mvnr1OkiUtR"
      }
    },
    {
      "cell_type": "code",
      "execution_count": 1,
      "metadata": {
        "colab": {
          "base_uri": "https://localhost:8080/"
        },
        "id": "_YP27toUiOHy",
        "outputId": "2e08280c-39af-4068-b8e2-2c0e52b541a7"
      },
      "outputs": [
        {
          "output_type": "stream",
          "name": "stdout",
          "text": [
            "enter 1st number10\n",
            "enter 2nd number77\n",
            "enter 3rd number27\n",
            "middle value is:  27\n"
          ]
        }
      ],
      "source": [
        "def value(a,b,c):\n",
        "   integers=[a,b,c]\n",
        "   sort=sorted(integers)\n",
        "   return sort[1]\n",
        "\n",
        "num1= int(input(\"enter 1st number\"))\n",
        "num2= int(input(\"enter 2nd number\"))\n",
        "num3= int(input(\"enter 3rd number\"))\n",
        "\n",
        "middle_value=value(num1,num2,num3)\n",
        "print(\"middle value is: \",middle_value)"
      ]
    },
    {
      "cell_type": "markdown",
      "source": [
        "Qn2"
      ],
      "metadata": {
        "id": "AhEq9Kia5Iy2"
      }
    },
    {
      "cell_type": "code",
      "source": [
        "import math\n",
        "def screen():\n",
        "  print(\"chooce the operation\")\n",
        "  print(\"1. add\")\n",
        "  print(\"1. sustract\")\n",
        "  print(\"1. multiply\")\n",
        "  print(\"1. divide\")\n",
        "  print(\"1. modolos\")\n",
        "\n",
        "  choice=input(\"Enter your choice (1/2/3/4/5): \")\n",
        "  num1 = float(input(\"Enter first number: \"))\n",
        "  num2 = float(input(\"Enter second number: \"))\n",
        "\n",
        "  if choice=='1':\n",
        "     print(\"result: \",num1+num2)\n",
        "\n",
        "  elif choice=='2':\n",
        "     print(\"result: \",num1-num2)\n",
        "\n",
        "  elif choice=='3':\n",
        "     print(\"result: \",num1*num2)\n",
        "\n",
        "  elif choice=='2':\n",
        "     print(\"result: \",num1/num2)\n",
        "\n",
        "  elif choice=='2':\n",
        "     print(\"result: \",num1%num2)\n",
        "\n",
        "  else:\n",
        "     print(\"Invalid input\")\n",
        "\n",
        "screen()"
      ],
      "metadata": {
        "colab": {
          "base_uri": "https://localhost:8080/"
        },
        "id": "cK6jeVON5CYT",
        "outputId": "9813726d-d79a-4f72-de0c-fe8d3a66eefb"
      },
      "execution_count": 10,
      "outputs": [
        {
          "output_type": "stream",
          "name": "stdout",
          "text": [
            "chooce the operation\n",
            "1. add\n",
            "1. sustract\n",
            "1. multiply\n",
            "1. divide\n",
            "1. modolos\n",
            "Enter your choice (1/2/3/4/5): 1\n",
            "Enter first number: 27\n",
            "Enter second number: 27\n",
            "result:  54.0\n"
          ]
        }
      ]
    },
    {
      "cell_type": "markdown",
      "source": [
        "Qn3\n"
      ],
      "metadata": {
        "id": "ILsmPKUQnCTU"
      }
    },
    {
      "cell_type": "code",
      "source": [
        "def hypotenuse(l,b):\n",
        "   h= (l ** 2 + b ** 2) ** 0.5\n",
        "   return h\n",
        "\n",
        "side1 = float(input(\"Enter the length of the first shorter side: \"))\n",
        "side2 = float(input(\"Enter the length of the second shorter side: \"))\n",
        "result= hypotenuse(side1,side2)\n",
        "print(\"hypotenuse is : \",result)"
      ],
      "metadata": {
        "colab": {
          "base_uri": "https://localhost:8080/"
        },
        "id": "EjXLvwYBm8B6",
        "outputId": "d67123ac-e165-4634-f91c-925b211eaaf2"
      },
      "execution_count": 3,
      "outputs": [
        {
          "output_type": "stream",
          "name": "stdout",
          "text": [
            "Enter the length of the first shorter side: 10\n",
            "Enter the length of the second shorter side: 15\n",
            "hypotenuse is :  18.027756377319946\n"
          ]
        }
      ]
    },
    {
      "cell_type": "markdown",
      "source": [
        "Qn4"
      ],
      "metadata": {
        "id": "SNyIZUUaUwFf"
      }
    },
    {
      "cell_type": "code",
      "source": [
        "#a.\n",
        "\n",
        "class rectangle:\n",
        "  def __init__(self,length,width):\n",
        "    self.length=length\n",
        "    self.width=width\n",
        "\n",
        "#b.\n",
        "\n",
        "  def calulate_perimeter(self):\n",
        "      return 2*(self.length + self.width)\n",
        "\n",
        "  def calulate_area(self):\n",
        "      return self.length*self.width\n",
        "\n",
        "\n",
        "rect_angle=rectangle(7,10)\n",
        "\n",
        "area=rect_angle.calulate_area()\n",
        "perimeter=rect_angle.calulate_perimeter()\n",
        "\n",
        "\n",
        "#c.\n",
        "\n",
        "def display():\n",
        "   print(f\"Length: {rect_angle.length}\")\n",
        "   print(f\"width: {rect_angle.width}\")\n",
        "   print(f\"perimeter: {perimeter}\")\n",
        "   print(f\"area: {area}\")\n",
        "\n",
        "display()"
      ],
      "metadata": {
        "id": "nuHIKHW3osiT",
        "colab": {
          "base_uri": "https://localhost:8080/"
        },
        "outputId": "361c076a-0e3c-475a-d4d1-e29ff1613208"
      },
      "execution_count": 5,
      "outputs": [
        {
          "output_type": "stream",
          "name": "stdout",
          "text": [
            "Length: 7\n",
            "width: 10\n",
            "perimeter: 34\n",
            "area: 70\n"
          ]
        }
      ]
    },
    {
      "cell_type": "markdown",
      "source": [
        "Qn5"
      ],
      "metadata": {
        "id": "NZiHedu0rNms"
      }
    },
    {
      "cell_type": "code",
      "source": [
        "#a.\n",
        "class BankAccount:\n",
        "\n",
        "#b.\n",
        "    def __init__(self, accountNumber, name, balance):\n",
        "        self.accountNumber = accountNumber\n",
        "        self.name = name\n",
        "        self.balance = balance\n",
        "#c.\n",
        "    def deposit(self, amount):\n",
        "        if amount > 0:\n",
        "            self.balance += amount\n",
        "            print(f\"Deposit of ${amount} successful.\")\n",
        "        else:\n",
        "            print(\"Deposit amount should be greater than zero.\")\n",
        "#d.\n",
        "    def withdrawal(self, amount):\n",
        "        if amount > 0 and amount <= self.balance:\n",
        "            self.balance -= amount\n",
        "            print(f\"Withdrawal of ${amount} successful.\")\n",
        "        else:\n",
        "            print(\"Withdrawal amount should be greater than zero and less than or equal to the balance.\")\n",
        "#e.\n",
        "    def bankFees(self):\n",
        "        fees = self.balance * 0.05\n",
        "        self.balance -= fees\n",
        "        print(f\"Bank fees of 5% applied. ${fees} deducted from the account.\")\n",
        "#f.\n",
        "    def display(self):\n",
        "        print(f\"Account Number: {self.accountNumber}\")\n",
        "        print(f\"Account Holder Name: {self.name}\")\n",
        "        print(f\"Balance: ${self.balance}\")\n",
        "\n",
        "acc = BankAccount(7777, \"Noble\", 2000)\n",
        "\n",
        "acc.display()\n",
        "\n",
        "acc.deposit(1000)\n",
        "acc.display()\n",
        "\n",
        "acc.withdrawal(270)\n",
        "acc.display()\n",
        "\n",
        "acc.bankFees()\n",
        "acc.display()\n"
      ],
      "metadata": {
        "colab": {
          "base_uri": "https://localhost:8080/"
        },
        "id": "ADL8WABxjJvW",
        "outputId": "06dfc69f-be38-4f70-d097-bf8727469bac"
      },
      "execution_count": 9,
      "outputs": [
        {
          "output_type": "stream",
          "name": "stdout",
          "text": [
            "Account Number: 7777\n",
            "Account Holder Name: Noble\n",
            "Balance: $2000\n",
            "Deposit of $1000 successful.\n",
            "Account Number: 7777\n",
            "Account Holder Name: Noble\n",
            "Balance: $3000\n",
            "Withdrawal of $270 successful.\n",
            "Account Number: 7777\n",
            "Account Holder Name: Noble\n",
            "Balance: $2730\n",
            "Bank fees of 5% applied. $136.5 deducted from the account.\n",
            "Account Number: 7777\n",
            "Account Holder Name: Noble\n",
            "Balance: $2593.5\n"
          ]
        }
      ]
    },
    {
      "cell_type": "code",
      "source": [],
      "metadata": {
        "id": "Jn0X-NtRD1GD"
      },
      "execution_count": null,
      "outputs": []
    }
  ]
}