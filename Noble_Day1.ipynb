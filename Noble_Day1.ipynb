{
  "nbformat": 4,
  "nbformat_minor": 0,
  "metadata": {
    "colab": {
      "provenance": []
    },
    "kernelspec": {
      "name": "python3",
      "display_name": "Python 3"
    },
    "language_info": {
      "name": "python"
    }
  },
  "cells": [
    {
      "cell_type": "code",
      "execution_count": 1,
      "metadata": {
        "colab": {
          "base_uri": "https://localhost:8080/"
        },
        "id": "-CAtFDiSbn4W",
        "outputId": "a89ecd3b-54b8-4408-bf07-4fbf9d4e21de"
      },
      "outputs": [
        {
          "output_type": "stream",
          "name": "stdout",
          "text": [
            "Hello\n"
          ]
        }
      ],
      "source": [
        "#1. Given the string \"Hello, World!\", extract and print the\n",
        "#substring \"Hello\".\n",
        "string1 = \"Hello, World!\"\n",
        "substring1 = string1[:5]\n",
        "print(substring1)"
      ]
    },
    {
      "cell_type": "code",
      "source": [
        "#2. Given the string \"Python is fun\", extract and print the\n",
        "#substring \"is\".\n",
        "string2 = \"Python is fun\"\n",
        "substring2 = string2[6:9]\n",
        "print(substring2)"
      ],
      "metadata": {
        "colab": {
          "base_uri": "https://localhost:8080/"
        },
        "id": "MlL8dzX6cDZJ",
        "outputId": "d3986560-0678-4702-aa0c-582b98326394"
      },
      "execution_count": 5,
      "outputs": [
        {
          "output_type": "stream",
          "name": "stdout",
          "text": [
            " is\n"
          ]
        }
      ]
    },
    {
      "cell_type": "code",
      "source": [
        "#3. Given the string \"Programming\", extract and print the substring \"gram\" using slicing indices.\n",
        "string3 = \"Programming\"\n",
        "substring3 = string3[3:7]\n",
        "print(substring3)"
      ],
      "metadata": {
        "colab": {
          "base_uri": "https://localhost:8080/"
        },
        "id": "K1XMGjUocV8v",
        "outputId": "c5152070-3e9d-49aa-d24c-fcf1f61e2101"
      },
      "execution_count": 3,
      "outputs": [
        {
          "output_type": "stream",
          "name": "stdout",
          "text": [
            "gram\n"
          ]
        }
      ]
    },
    {
      "cell_type": "code",
      "source": [
        "#4. Given the string \"abcdefgh\", use slicing to print only the characters at even indices.\n",
        "string4 = \"abcdefgh\"\n",
        "even_characters = string4[2::2]\n",
        "print(even_characters)"
      ],
      "metadata": {
        "colab": {
          "base_uri": "https://localhost:8080/"
        },
        "id": "KwVY_HW3cmwI",
        "outputId": "5738da78-038d-47c3-8bd5-d2ceaaf5ba17"
      },
      "execution_count": 6,
      "outputs": [
        {
          "output_type": "stream",
          "name": "stdout",
          "text": [
            "ceg\n"
          ]
        }
      ]
    },
    {
      "cell_type": "code",
      "source": [
        "#5. Given the string \"abcdefg\", use negative indices to extract and print the substring \"efg\"\n",
        "string5 = \"abcdefg\"\n",
        "substring5 = string5[-3:]\n",
        "print(substring5)"
      ],
      "metadata": {
        "colab": {
          "base_uri": "https://localhost:8080/"
        },
        "id": "zv-u5cTKcz2U",
        "outputId": "7ad5cea1-6751-4d51-abf8-b317a0ec6d1b"
      },
      "execution_count": 7,
      "outputs": [
        {
          "output_type": "stream",
          "name": "stdout",
          "text": [
            "efg\n"
          ]
        }
      ]
    },
    {
      "cell_type": "code",
      "source": [
        "#6. Given the string \"Data Science\", use negative indices to extract and print the last three characters.\n",
        "string6 = \"Data Science\"\n",
        "last_three_chars = string6[-3:]\n",
        "print(last_three_chars)"
      ],
      "metadata": {
        "colab": {
          "base_uri": "https://localhost:8080/"
        },
        "id": "CjJPxI7AetPO",
        "outputId": "bad89613-35ef-43f8-bde7-7f8f6f6e0e5e"
      },
      "execution_count": 8,
      "outputs": [
        {
          "output_type": "stream",
          "name": "stdout",
          "text": [
            "nce\n"
          ]
        }
      ]
    },
    {
      "cell_type": "code",
      "source": [
        "#7. Given the string \"abcdefghij\", use slicing with a step to print every second character\n",
        "char = \"abcdefghij\"\n",
        "every_second_string = char[1::2]\n",
        "print(every_second_string)"
      ],
      "metadata": {
        "colab": {
          "base_uri": "https://localhost:8080/"
        },
        "id": "hfpd5t0vfCWB",
        "outputId": "d9041f91-9508-446c-f767-82b39bef3eaf"
      },
      "execution_count": 14,
      "outputs": [
        {
          "output_type": "stream",
          "name": "stdout",
          "text": [
            "bdfhj\n"
          ]
        }
      ]
    },
    {
      "cell_type": "code",
      "source": [
        "#8. Given the string \"1234567890\", use slicing with a step to print the odd digits.\n",
        "string8 = \"1234567890\"\n",
        "odd_digits = string8[::2]\n",
        "print(odd_digits)"
      ],
      "metadata": {
        "colab": {
          "base_uri": "https://localhost:8080/"
        },
        "id": "L4DMrcVsfQyB",
        "outputId": "02e3729d-4c85-45ba-9a3c-e4c13d456c1f"
      },
      "execution_count": 12,
      "outputs": [
        {
          "output_type": "stream",
          "name": "stdout",
          "text": [
            "13579\n"
          ]
        }
      ]
    },
    {
      "cell_type": "code",
      "source": [
        "#9. Given the string \"Hello\", use slicing to print the string in reverse order.\n",
        "string9 = \"Hello\"\n",
        "reverse_string9 = string9[::-1]\n",
        "print(reverse_string9)"
      ],
      "metadata": {
        "colab": {
          "base_uri": "https://localhost:8080/"
        },
        "id": "e-8nGtXZfjKv",
        "outputId": "abcde9e3-cfbc-445e-9e8f-75074cd4faec"
      },
      "execution_count": 13,
      "outputs": [
        {
          "output_type": "stream",
          "name": "stdout",
          "text": [
            "olleH\n"
          ]
        }
      ]
    },
    {
      "cell_type": "code",
      "source": [
        "#10. Given the string \"abcdefghijk\", extract and print the substring \"acegik\" using slicing.\n",
        "string10 = \"abcdefghijk\"\n",
        "substring10 = string10[::2]\n",
        "print(substring10)"
      ],
      "metadata": {
        "colab": {
          "base_uri": "https://localhost:8080/"
        },
        "id": "5wRaAWZ5f4fa",
        "outputId": "1371d4ef-cfba-46c1-90fb-305a9916f0a5"
      },
      "execution_count": 15,
      "outputs": [
        {
          "output_type": "stream",
          "name": "stdout",
          "text": [
            "acegik\n"
          ]
        }
      ]
    },
    {
      "cell_type": "code",
      "source": [],
      "metadata": {
        "id": "uRQPh2N4gZe-"
      },
      "execution_count": null,
      "outputs": []
    }
  ]
}