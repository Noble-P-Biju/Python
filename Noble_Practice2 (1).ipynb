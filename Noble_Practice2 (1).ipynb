{
  "nbformat": 4,
  "nbformat_minor": 0,
  "metadata": {
    "colab": {
      "provenance": []
    },
    "kernelspec": {
      "name": "python3",
      "display_name": "Python 3"
    },
    "language_info": {
      "name": "python"
    }
  },
  "cells": [
    {
      "cell_type": "code",
      "execution_count": 2,
      "metadata": {
        "colab": {
          "base_uri": "https://localhost:8080/"
        },
        "id": "ShXM7FQ5sPXt",
        "outputId": "85585b4d-15f2-4678-d5bd-45cbb3bc6262"
      },
      "outputs": [
        {
          "output_type": "execute_result",
          "data": {
            "text/plain": [
              "8638"
            ]
          },
          "metadata": {},
          "execution_count": 2
        }
      ],
      "source": [
        "#1. Write a program to find sum of all elements in a list of integers.\n",
        "list=[7,77,777,7777]\n",
        "tot=sum(list)\n",
        "tot"
      ]
    },
    {
      "cell_type": "code",
      "source": [
        "#2. Input a sentence as a string.\n",
        "#a) Print its length\n",
        "#b) Print the first half of string\n",
        "sen=input(\"Enter a sentence:\")\n",
        "print(\"Length is:\", len(sen))\n",
        "\n",
        "half = sen[:len(sen)//2]\n",
        "print(\"First half is:\", half)"
      ],
      "metadata": {
        "colab": {
          "base_uri": "https://localhost:8080/"
        },
        "id": "34CNEr8esQvP",
        "outputId": "253bb300-7379-4b45-bdfd-cf709077a6e3"
      },
      "execution_count": 4,
      "outputs": [
        {
          "output_type": "stream",
          "name": "stdout",
          "text": [
            "Enter a sentence:JESUS IS LORD\n",
            "Length is: 13\n",
            "First half is: JESUS \n"
          ]
        }
      ]
    },
    {
      "cell_type": "code",
      "source": [
        "#3. Write a program to enter a tuple of integers as(78,45,32,19,82,77,40,39). Change the third value in the tuple to10\n"
      ],
      "metadata": {
        "id": "C395MoSbtNr0"
      },
      "execution_count": 6,
      "outputs": []
    },
    {
      "cell_type": "markdown",
      "source": [
        "ANS: Tuple is immutable\n"
      ],
      "metadata": {
        "id": "LdkFQ0a6uh5z"
      }
    },
    {
      "cell_type": "code",
      "source": [
        "#4. Consider a list listA=[19,32,10,55,31,32,94,29,10,65,77,40,40]"
      ],
      "metadata": {
        "id": "QI-TJX_subnh"
      },
      "execution_count": 7,
      "outputs": []
    },
    {
      "cell_type": "code",
      "source": [
        "items= [19, 32, 10, 55, 31, 32, 94, 29, 10, 65, 77, 40, 40]\n",
        "\n",
        "# (a) Delete the first occurrence of 32\n",
        "items.remove(32)\n",
        "items"
      ],
      "metadata": {
        "colab": {
          "base_uri": "https://localhost:8080/"
        },
        "id": "EfYrc5dSux1b",
        "outputId": "79f44448-a225-41c2-8309-70cb079d2fc5"
      },
      "execution_count": 65,
      "outputs": [
        {
          "output_type": "execute_result",
          "data": {
            "text/plain": [
              "[19, 10, 55, 31, 32, 94, 29, 10, 65, 77, 40, 40]"
            ]
          },
          "metadata": {},
          "execution_count": 65
        }
      ]
    },
    {
      "cell_type": "code",
      "source": [
        "# (b) Delete all occurrences of 40\n",
        "\n",
        "items.remove(items[10])and(items[11])\n",
        "items"
      ],
      "metadata": {
        "colab": {
          "base_uri": "https://localhost:8080/"
        },
        "id": "sOpAR7I1vBGx",
        "outputId": "ddc8f1ba-5ef0-4e52-e3e5-1e932dcc76a8"
      },
      "execution_count": 66,
      "outputs": [
        {
          "output_type": "execute_result",
          "data": {
            "text/plain": [
              "[19, 10, 55, 31, 32, 94, 29, 10, 65, 77, 40]"
            ]
          },
          "metadata": {},
          "execution_count": 66
        }
      ]
    },
    {
      "cell_type": "code",
      "source": [
        "# (c) Delete the value at index=5\n",
        "items.remove(items[5])\n",
        "items"
      ],
      "metadata": {
        "colab": {
          "base_uri": "https://localhost:8080/"
        },
        "id": "SQVHqrOlvOWf",
        "outputId": "5e13a810-8d0f-4ad7-880d-61853d224d37"
      },
      "execution_count": 67,
      "outputs": [
        {
          "output_type": "execute_result",
          "data": {
            "text/plain": [
              "[19, 10, 55, 31, 32, 29, 10, 65, 77, 40]"
            ]
          },
          "metadata": {},
          "execution_count": 67
        }
      ]
    },
    {
      "cell_type": "code",
      "source": [
        "# (d) Modify the value at index=9 as 300\n",
        "items[9] = 300\n",
        "items"
      ],
      "metadata": {
        "colab": {
          "base_uri": "https://localhost:8080/"
        },
        "id": "qDSLMwKDxowE",
        "outputId": "f008e4b4-bc2e-424b-d98c-9064ee7bf9fa"
      },
      "execution_count": 68,
      "outputs": [
        {
          "output_type": "execute_result",
          "data": {
            "text/plain": [
              "[19, 10, 55, 31, 32, 29, 10, 65, 77, 300]"
            ]
          },
          "metadata": {},
          "execution_count": 68
        }
      ]
    },
    {
      "cell_type": "code",
      "source": [
        "# (e) Add 200 at index=2\n",
        "items.insert(2, 200)\n",
        "items"
      ],
      "metadata": {
        "colab": {
          "base_uri": "https://localhost:8080/"
        },
        "id": "wBkFEXT2yb8g",
        "outputId": "36781570-6194-45cd-822a-a82ab1c2af72"
      },
      "execution_count": 69,
      "outputs": [
        {
          "output_type": "execute_result",
          "data": {
            "text/plain": [
              "[19, 10, 200, 55, 31, 32, 29, 10, 65, 77, 300]"
            ]
          },
          "metadata": {},
          "execution_count": 69
        }
      ]
    },
    {
      "cell_type": "code",
      "source": [
        "# (f) Print the final list with its length, maximum value, and sum of all elements\n",
        "print(\"items:\", items)\n",
        "print(\"Length:\", len(items))\n",
        "print(\"Max value:\", max(items))\n",
        "print(\"Sum :\", sum(items))"
      ],
      "metadata": {
        "colab": {
          "base_uri": "https://localhost:8080/"
        },
        "id": "rU3RMVJ3yjuk",
        "outputId": "c4b89739-8ba9-4171-f55d-78d1456db666"
      },
      "execution_count": 70,
      "outputs": [
        {
          "output_type": "stream",
          "name": "stdout",
          "text": [
            "items: [19, 10, 200, 55, 31, 32, 29, 10, 65, 77, 300]\n",
            "Length: 11\n",
            "Max value: 300\n",
            "Sum : 828\n"
          ]
        }
      ]
    },
    {
      "cell_type": "code",
      "source": [
        "#5. Consider a string ”The day has been long”\n",
        "# (a) Delete the value at index = 4\n",
        "str= \"The day has been long\"\n",
        "str = str[:4] + str[5:]\n",
        "str\n"
      ],
      "metadata": {
        "colab": {
          "base_uri": "https://localhost:8080/",
          "height": 36
        },
        "id": "tXmAdYWcy5o0",
        "outputId": "b4cc94b5-a73c-4e25-f86f-77fa0db777c8"
      },
      "execution_count": 55,
      "outputs": [
        {
          "output_type": "execute_result",
          "data": {
            "text/plain": [
              "'The ay has been long'"
            ],
            "application/vnd.google.colaboratory.intrinsic+json": {
              "type": "string"
            }
          },
          "metadata": {},
          "execution_count": 55
        }
      ]
    },
    {
      "cell_type": "code",
      "source": [
        "# (b) Print the string 4 times in a single line with space between each repetition\n",
        "print((str+ ' ') * 4)"
      ],
      "metadata": {
        "colab": {
          "base_uri": "https://localhost:8080/"
        },
        "id": "dpb2FSJEzsE9",
        "outputId": "ae81f2c5-f1ee-4a85-8ddf-f6a2aed1efee"
      },
      "execution_count": 58,
      "outputs": [
        {
          "output_type": "stream",
          "name": "stdout",
          "text": [
            "The ay has been long The ay has been long The ay has been long The ay has been long \n"
          ]
        }
      ]
    },
    {
      "cell_type": "code",
      "source": [
        "# (c) Print the string 3 times in a new line each time\n",
        "print((str + '\\n') * 3)"
      ],
      "metadata": {
        "colab": {
          "base_uri": "https://localhost:8080/"
        },
        "id": "RmyUj8nW0B3X",
        "outputId": "a33d0fd2-15cc-49a0-e937-dacbd7964441"
      },
      "execution_count": 60,
      "outputs": [
        {
          "output_type": "stream",
          "name": "stdout",
          "text": [
            "The ay has been long\n",
            "The ay has been long\n",
            "The ay has been long\n",
            "\n"
          ]
        }
      ]
    },
    {
      "cell_type": "code",
      "source": [
        "# (d) Modify the string at index 7 as 'A'\n",
        "str = str[:7] + 'A' + str[8:]\n",
        "str"
      ],
      "metadata": {
        "colab": {
          "base_uri": "https://localhost:8080/",
          "height": 36
        },
        "id": "gBdK0I9G0dKW",
        "outputId": "e69a9c15-9263-44db-815a-acd3a6a901c6"
      },
      "execution_count": 62,
      "outputs": [
        {
          "output_type": "execute_result",
          "data": {
            "text/plain": [
              "'The ay Aas been long'"
            ],
            "application/vnd.google.colaboratory.intrinsic+json": {
              "type": "string"
            }
          },
          "metadata": {},
          "execution_count": 62
        }
      ]
    },
    {
      "cell_type": "code",
      "source": [
        "# (e) Print the string from index 4 to 15\n",
        "print( str[4:16])"
      ],
      "metadata": {
        "colab": {
          "base_uri": "https://localhost:8080/"
        },
        "id": "9F4hKByK0qtt",
        "outputId": "4b33c1d4-3b65-47c4-82d7-31529ee9676f"
      },
      "execution_count": 63,
      "outputs": [
        {
          "output_type": "stream",
          "name": "stdout",
          "text": [
            "ay Aas been \n"
          ]
        }
      ]
    },
    {
      "cell_type": "code",
      "source": [
        "# (f) Print the final string with its length\n",
        "print(\"Final string:\", str)\n",
        "print(\"Length of the string:\", len(str))"
      ],
      "metadata": {
        "colab": {
          "base_uri": "https://localhost:8080/"
        },
        "id": "ybBP55K80825",
        "outputId": "22e8c567-4cde-492b-8210-2a195cc240b3"
      },
      "execution_count": 64,
      "outputs": [
        {
          "output_type": "stream",
          "name": "stdout",
          "text": [
            "Final string: The ay Aas been long\n",
            "Length of the string: 20\n"
          ]
        }
      ]
    },
    {
      "cell_type": "code",
      "source": [],
      "metadata": {
        "id": "_YP-EVKp1Hms"
      },
      "execution_count": null,
      "outputs": []
    }
  ]
}